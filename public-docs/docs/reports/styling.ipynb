{
 "cells": [
  {
   "attachments": {},
   "cell_type": "markdown",
   "id": "e7778e85-2b10-499a-9679-77f6ba5a3ffc",
   "metadata": {},
   "source": [
    "Arakawa enables you to can change the font, background color and text alignment to match your brand guidelines or personal aesthetics.\n",
    "Simply override the default styling properties by passing in a `Formatting` object as follows:\n",
    "\n",
    "```python\n",
    "import arakawa as ar\n",
    "\n",
    "view = ar.View(\"Test Message\")\n",
    "\n",
    "ar.save_report(\n",
    "    view,\n",
    "    path=\"styling-python-api.html\",\n",
    "    formatting=ar.Formatting(\n",
    "        light_prose=False,\n",
    "        accent_color=\"orange\",\n",
    "        bg_color=\"#EEE\",\n",
    "        text_alignment=ar.TextAlignment.RIGHT,\n",
    "        font=ar.FontChoice.MONOSPACE,\n",
    "        width=ar.Width.MEDIUM,\n",
    "    )\n",
    ")\n",
    "```"
   ]
  },
  {
   "cell_type": "code",
   "execution_count": 1,
   "id": "702ba616",
   "metadata": {
    "tags": [
     "remove_input"
    ]
   },
   "outputs": [
    {
     "data": {
      "text/html": [
       "<style>\n",
       "  #ar- 1622aebe076b4368918ab620a1972032 {\n",
       "    width: 1px;\n",
       "    min-width: 100%;\n",
       "  }\n",
       "</style>\n",
       "<iframe id=\"ar-1622aebe076b4368918ab620a1972032\" srcdoc=\"<!DOCTYPE html>\n",
       "<html lang=\"en\">\n",
       "\n",
       "<head>\n",
       "  <meta charset=\"UTF-8\" />\n",
       "\n",
       "<script src=\"https://kit.fontawesome.com/256c714d9a.js\"></script>\n",
       "<link href=\"https://fonts.googleapis.com/css?family=Inter:400,500,600,700|Inconsolata|Karla|Rubik&display=swap\"\n",
       "  rel=\"stylesheet\" />\n",
       "<link rel=\"stylesheet\" href=\"https://cdn.jsdelivr.net/npm/arakawa@0.0.1/dist/report/index.css\" />\n",
       "<link rel=\"stylesheet\" href=\"https://cdn.jsdelivr.net/npm/arakawa@0.0.1/dist/report/tailwind.css\" />\n",
       "<script>\n",
       "  /* construct the view */\n",
       "  const htmlHeader = `<style type=\"text/css\">:root {\n",
       "    --ar-accent-color: orange;\n",
       "    --ar-bg-color: #EEE;\n",
       "    --ar-text-align: right;\n",
       "    --ar-font-family: ui-monospace, monospace, system-ui;\n",
       "}</style>`;\n",
       "  window.reportProps = { htmlHeader, isLightProse: false, isOrg: false, mode: \"VIEW\", reportWidthClass: \"max-w-screen-xl\" };\n",
       "  window.reportProps[\"appData\"] = { data: { result: {\"view_xml\": \"\\u003cView version=\\\"1\\\" fragment=\\\"false\\\"\\u003e\\u003cText\\u003e\\u003c![CDATA[Test Message]]\\u003e\\u003c/Text\\u003e\\u003c/View\\u003e\", \"assets\": {}} }};\n",
       "</script>\n",
       "<script type=\"module\">\n",
       "  import { mountReport } from \"https://cdn.jsdelivr.net/npm/arakawa@0.0.1/dist/report/index.es.js\";\n",
       "  mountReport(window.reportProps);\n",
       "</script>\n",
       "</head>\n",
       "<script>\n",
       "  window.isIPythonEmbed = true;\n",
       "</script>\n",
       "\n",
       "<body>\n",
       "  <main class=\"max-w-screen-xl w-full mx-auto\">\n",
       "    <div id=\"report\" class=\"w-full\"></div>\n",
       "  </main>\n",
       "  <script src=\"https://cdn.jsdelivr.net/npm/arakawa@0.0.1/dist/assets/iframeResizer.contentWindow.min.js\"></script>\n",
       "</body>\n",
       "\n",
       "</html>\" style=\"border: none\">\n",
       "</iframe>\n",
       "<script type=\"module\">\n",
       "  import { iframeResize } from \"https://cdn.jsdelivr.net/npm/arakawa@0.0.1/dist/report/index.es.js\";\n",
       "  iframeResize({ log: true, checkOrigin: false }, \"#ar-1622aebe076b4368918ab620a1972032\");\n",
       "</script>"
      ],
      "text/plain": [
       "<IPython.core.display.HTML object>"
      ]
     },
     "metadata": {},
     "output_type": "display_data"
    }
   ],
   "source": [
    "import arakawa as ar\n",
    "from IPython.display import display, HTML\n",
    "\n",
    "x = ar.stringify_report(\n",
    "    ar.View(\"Test Message\"),\n",
    "    formatting=ar.Formatting(\n",
    "        light_prose=False,\n",
    "        accent_color=\"orange\",\n",
    "        bg_color=\"#EEE\",\n",
    "        text_alignment=ar.TextAlignment.RIGHT,\n",
    "        font=ar.FontChoice.MONOSPACE,\n",
    "        width=ar.Width.MEDIUM,\n",
    "    )\n",
    ")\n",
    "display(HTML(x))"
   ]
  },
  {
   "attachments": {},
   "cell_type": "markdown",
   "id": "556551c7-bfb7-410b-b068-425b95c97a64",
   "metadata": {},
   "source": [
    "There are currently six styling properties supported:\n",
    "\n",
    "**1. Light Prose**\n",
    "\n",
    "Boolean which controls whether the text appears as light (good for dark mode), or dark (default).\n",
    "\n",
    "**2. Accent Color**\n",
    "\n",
    "Controls the color of certain UI elements e.g. page titles, selects, DataTable headings. Can be any of the [140 CSS colour names](https://htmlcolorcodes.com/color-names/) or an RGB hex code.\n",
    "\n",
    "**3. Background Color**\n",
    "\n",
    "Controls the background color - can be any of the [140 CSS colour names](https://htmlcolorcodes.com/color-names/) or an RGB hex code.\n",
    "\n",
    "**4. Text Alignment**\n",
    "\n",
    "Controls how the text is aligned - can be any of `JUSTIFY`, `LEFT` (default),   `RIGHT`, `CENTER`.\n",
    "\n",
    "**5. Font**\n",
    "\n",
    "Controls the font for the prose text - can be any of `DEFAULT`, `SANS`, `SERIF`, `MONOSPACE`.\n",
    "\n",
    "**6. Width**\n",
    "\n",
    "Controls the horizontal width - can be any of `NARROW`, `MEDIUM` (default), `FULL`."
   ]
  }
 ],
 "metadata": {
  "language_info": {
   "name": "python"
  }
 },
 "nbformat": 4,
 "nbformat_minor": 5
}
