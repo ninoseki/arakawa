{
 "cells": [
  {
   "cell_type": "code",
   "execution_count": null,
   "id": "0",
   "metadata": {
    "tags": [
     "remove_cell"
    ]
   },
   "outputs": [],
   "source": [
    "import arakawa as ar\n",
    "import warnings\n",
    "warnings.filterwarnings(\"ignore\")"
   ]
  },
  {
   "cell_type": "markdown",
   "id": "1",
   "metadata": {},
   "source": [
    "# Toggle\n",
    "\n",
    "::: arakawa.Toggle"
   ]
  },
  {
   "cell_type": "markdown",
   "id": "2",
   "metadata": {},
   "source": [
    "## Simple Toggle"
   ]
  },
  {
   "cell_type": "code",
   "execution_count": null,
   "id": "3",
   "metadata": {
    "tags": []
   },
   "outputs": [],
   "source": [
    "import seaborn as sns\n",
    "\n",
    "code = \"\"\"\n",
    "titanic = sns.load_dataset(\"titanic\")\n",
    "\n",
    "report = ar.Report(\n",
    "    \"# Titanic overview\",\n",
    "    ar.HTML(\n",
    "        '<html><img src=\"https://upload.wikimedia.org/wikipedia/commons/thumb/f/fd/RMS_Titanic_3.jpg/1599px-RMS_Titanic_3.jpg\" style=\"height:400px;display:flex;margin:auto\"></img></html>'\n",
    "    ),\n",
    "    ar.Select(\n",
    "        blocks=[\n",
    "            ar.Table(titanic.describe(), label=\"Data Description\"),\n",
    "            ar.DataTable(titanic, label=\"Whole Dataset\"),\n",
    "            ar.Code(code, label=\"Source code\"),\n",
    "        ]\n",
    "    ),\n",
    ")\n",
    "\n",
    "report.save(path=\"select.html\")\n",
    "\"\"\"\n",
    "\n",
    "titanic = sns.load_dataset(\"titanic\")\n",
    "\n",
    "ar.Blocks(\n",
    "    \"# Titanic overview\",\n",
    "    ar.HTML(\n",
    "        '<html><img src=\"https://upload.wikimedia.org/wikipedia/commons/thumb/f/fd/RMS_Titanic_3.jpg/1599px-RMS_Titanic_3.jpg\" style=\"height:400px;display:flex;margin:auto\"></img></html>'\n",
    "    ),\n",
    "    ar.Toggle(\n",
    "        blocks=[\n",
    "            ar.Table(titanic.describe(), label=\"Data Description\"),\n",
    "            ar.DataTable(titanic, label=\"Whole Dataset\"),\n",
    "            ar.Code(code, label=\"Source code\"),\n",
    "        ]\n",
    "    ),\n",
    ")"
   ]
  }
 ],
 "metadata": {
  "language_info": {
   "name": "python"
  }
 },
 "nbformat": 4,
 "nbformat_minor": 5
}
