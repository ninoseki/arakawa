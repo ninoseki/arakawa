{
 "cells": [
  {
   "cell_type": "code",
   "execution_count": null,
   "id": "0",
   "metadata": {
    "tags": [
     "remove_cell"
    ]
   },
   "outputs": [],
   "source": [
    "import arakawa as ar\n",
    "import warnings\n",
    "warnings.filterwarnings(\"ignore\")"
   ]
  },
  {
   "attachments": {},
   "cell_type": "markdown",
   "id": "1",
   "metadata": {},
   "source": [
    "# Selects and Tabs\n",
    "\n",
    "::: arakawa.Select\n",
    "\n",
    "The `ar.Select` block has two modes:\n",
    "\n",
    "* **Tabs** are used for less than 5 options - you can override this default by passing in the parameter `type=ar.SelectType.TABS`\n",
    "* **Drop downs** are used for 5 or more options - you can override this default by passing in the parameter `type=ar.SelectType.DROPDOWN`. In addition, a search bar will appear if the block contains more than 10 options.\n",
    "\n",
    "To set the option names, make sure each block contained inside your `ar.Select` has a `label`."
   ]
  },
  {
   "cell_type": "markdown",
   "id": "2",
   "metadata": {},
   "source": [
    "## Simple Tabs"
   ]
  },
  {
   "cell_type": "code",
   "execution_count": null,
   "id": "3",
   "metadata": {
    "tags": []
   },
   "outputs": [],
   "source": [
    "import seaborn as sns\n",
    "import altair as alt\n",
    "\n",
    "code = \"\"\"\n",
    "titanic = sns.load_dataset(\"titanic\")\n",
    "\n",
    "report = ar.Report(\n",
    "    \"# Titanic overview\",\n",
    "    ar.HTML(\n",
    "        '<html><img src=\"https://upload.wikimedia.org/wikipedia/commons/thumb/f/fd/RMS_Titanic_3.jpg/1599px-RMS_Titanic_3.jpg\" style=\"height:400px;display:flex;margin:auto\"></img></html>'\n",
    "    ),\n",
    "    ar.Select(\n",
    "        blocks=[\n",
    "            ar.Table(titanic.describe(), label=\"Data Description\"),\n",
    "            ar.DataTable(titanic, label=\"Whole Dataset\"),\n",
    "            ar.Code(code, label=\"Source code\"),\n",
    "        ]\n",
    "    ),\n",
    ")\n",
    "\n",
    "app.save(path=\"select.html\")\n",
    "\"\"\"\n",
    "\n",
    "titanic = sns.load_dataset(\"titanic\")\n",
    "\n",
    "ar.Blocks(\n",
    "    \"# Titanic overview\",\n",
    "    ar.HTML(\n",
    "        '<html><img src=\"https://upload.wikimedia.org/wikipedia/commons/thumb/f/fd/RMS_Titanic_3.jpg/1599px-RMS_Titanic_3.jpg\" style=\"height:400px;display:flex;margin:auto\"></img></html>'\n",
    "    ),\n",
    "    ar.Select(\n",
    "        blocks=[\n",
    "            ar.Table(titanic.describe(), label=\"Data Description\"),\n",
    "            ar.DataTable(titanic, label=\"Whole Dataset\"),\n",
    "            ar.Code(code, label=\"Source code\"),\n",
    "        ]\n",
    "    ),\n",
    ")"
   ]
  },
  {
   "cell_type": "code",
   "execution_count": null,
   "id": "4",
   "metadata": {
    "tags": []
   },
   "outputs": [],
   "source": [
    "import seaborn as sns\n",
    "\n",
    "code = \"\"\"\n",
    "titanic = sns.load_dataset(\"titanic\")\n",
    "\n",
    "report = ar.Report(\n",
    "    \"# Titanic overview\",\n",
    "    ar.HTML(\n",
    "        '<html><img src=\"https://upload.wikimedia.org/wikipedia/commons/thumb/f/fd/RMS_Titanic_3.jpg/1599px-RMS_Titanic_3.jpg\" style=\"height:400px;display:flex;margin:auto\"></img></html>'\n",
    "    ),\n",
    "    ar.Select(\n",
    "        blocks=[\n",
    "            ar.Table(titanic.describe(), label=\"Data Description\"),\n",
    "            ar.DataTable(titanic, label=\"Whole Dataset\"),\n",
    "            ar.Code(code, label=\"Source code\"),\n",
    "        ]\n",
    "    ),\n",
    ")\n",
    "\n",
    "report.save(path=\"select.html\")\n",
    "\"\"\"\n",
    "\n",
    "titanic = sns.load_dataset(\"titanic\")\n",
    "\n",
    "ar.Blocks(\n",
    "    \"# Titanic overview\",\n",
    "    ar.HTML(\n",
    "        '<html><img src=\"https://upload.wikimedia.org/wikipedia/commons/thumb/f/fd/RMS_Titanic_3.jpg/1599px-RMS_Titanic_3.jpg\" style=\"height:400px;display:flex;margin:auto\"></img></html>'\n",
    "    ),\n",
    "    ar.Select(\n",
    "        blocks=[\n",
    "            ar.Table(titanic.describe(), label=\"Data Description\"),\n",
    "            ar.DataTable(titanic, label=\"Whole Dataset\"),\n",
    "            ar.Code(code, label=\"Source code\"),\n",
    "        ],\n",
    "        type=ar.SelectType.DROPDOWN,\n",
    "    ),\n",
    ")"
   ]
  }
 ],
 "metadata": {
  "language_info": {
   "name": "python"
  }
 },
 "nbformat": 4,
 "nbformat_minor": 5
}
