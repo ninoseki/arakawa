{
 "cells": [
  {
   "cell_type": "code",
   "execution_count": null,
   "id": "0",
   "metadata": {
    "tags": [
     "remove_cell"
    ]
   },
   "outputs": [],
   "source": [
    "import arakawa as ar\n",
    "import warnings\n",
    "warnings.filterwarnings(\"ignore\")"
   ]
  },
  {
   "cell_type": "markdown",
   "id": "1",
   "metadata": {
    "tags": []
   },
   "source": [
    "# Pages\n",
    "    \n",
    "::: arakawa.Page\n",
    "    options:\n",
    "          members:\n",
    "              - __init__"
   ]
  },
  {
   "cell_type": "markdown",
   "id": "2",
   "metadata": {
    "tags": []
   },
   "source": [
    "## Simple Pages"
   ]
  },
  {
   "cell_type": "code",
   "execution_count": null,
   "id": "3",
   "metadata": {
    "tags": []
   },
   "outputs": [],
   "source": [
    "import altair as alt\n",
    "import seaborn as sns\n",
    "\n",
    "titanic = sns.load_dataset(\"titanic\")\n",
    "\n",
    "points = (\n",
    "    alt.Chart(titanic)\n",
    "    .mark_point()\n",
    "    .encode(\n",
    "        x=\"age:Q\",\n",
    "        color=\"class:N\",\n",
    "        y=\"fare:Q\",\n",
    "    )\n",
    "    .interactive()\n",
    "    .properties(width=\"container\")\n",
    ")\n",
    "\n",
    "ar.Blocks(\n",
    "    ar.Page(title=\"Titanic Dataset\", blocks=[\"### Dataset\", titanic]),\n",
    "    ar.Page(title=\"Titanic Plot\", blocks=[\"### Plot\", points]),\n",
    ")"
   ]
  },
  {
   "cell_type": "markdown",
   "id": "4",
   "metadata": {
    "tags": [
     "remove_cell"
    ]
   },
   "source": [
    "## Pages With Side Navigation"
   ]
  },
  {
   "cell_type": "code",
   "execution_count": null,
   "id": "5",
   "metadata": {
    "tags": [
     "remove_cell"
    ]
   },
   "outputs": [],
   "source": [
    "import seaborn as sns\n",
    "import altair as alt\n",
    "\n",
    "titanic = sns.load_dataset(\"titanic\")\n",
    "\n",
    "points = (\n",
    "    alt.Chart(titanic)\n",
    "    .mark_point()\n",
    "    .encode(\n",
    "        x=\"age:Q\",\n",
    "        color=\"class:N\",\n",
    "        y=\"fare:Q\",\n",
    "    )\n",
    "    .interactive()\n",
    "    .properties(width=\"container\")\n",
    ")\n",
    "\n",
    "ar.Blocks(\n",
    "    ar.Page(title=\"Titanic Dataset\", blocks=[\"### Dataset\", titanic]),\n",
    "    ar.Page(title=\"Titanic Plot\", blocks=[\"### Plot\", points]),\n",
    ")"
   ]
  }
 ],
 "metadata": {
  "language_info": {
   "name": "python"
  }
 },
 "nbformat": 4,
 "nbformat_minor": 5
}
