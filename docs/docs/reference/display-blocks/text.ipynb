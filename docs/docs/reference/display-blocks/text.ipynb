{
 "cells": [
  {
   "cell_type": "code",
   "execution_count": null,
   "id": "0",
   "metadata": {
    "tags": [
     "remove_cell"
    ]
   },
   "outputs": [],
   "source": [
    "import arakawa as ar\n",
    "import warnings\n",
    "warnings.filterwarnings(\"ignore\")"
   ]
  },
  {
   "cell_type": "markdown",
   "id": "1",
   "metadata": {},
   "source": [
    "::: arakawa.Text\n",
    "    options:\n",
    "          members:\n",
    "              - __init__"
   ]
  },
  {
   "cell_type": "markdown",
   "id": "2",
   "metadata": {},
   "source": [
    "### Simple Text from Markdown"
   ]
  },
  {
   "cell_type": "code",
   "execution_count": null,
   "id": "3",
   "metadata": {
    "tags": []
   },
   "outputs": [],
   "source": [
    "ar.Text(\"__My awesome markdown__\")"
   ]
  },
  {
   "cell_type": "markdown",
   "id": "4",
   "metadata": {},
   "source": [
    "### Multi-line Text\n",
    "\n",
    "To include multi-line text and formatting the words, use triple-quoted string, e.g. `\"\"\"Some words\"\"\"`"
   ]
  },
  {
   "cell_type": "code",
   "execution_count": null,
   "id": "5",
   "metadata": {
    "tags": []
   },
   "outputs": [],
   "source": [
    "md = \"\"\"Quas *diva coeperat usum*; suisque, ab alii, prato. Et cornua frontes puerum,\n",
    "referam vocassent **umeris**. Dies nec suorum alis adstitit, *temeraria*,\n",
    "anhelis aliis lacunabant quoque adhuc spissatus illum refugam perterrita in\n",
    "sonus. Facturus ad montes victima fluctus undae Zancle et nulli; frigida me.\n",
    "Regno memini concedant argento Aiacis terga, foribusque audit Persephone\n",
    "serieque, obsidis cupidine qualibet Exadius.\n",
    "\n",
    "```python\n",
    "utf_torrent_flash = -1;\n",
    "urlUpnp -= leakWebE - dslam;\n",
    "skinCdLdap += sessionCyberspace;\n",
    "var ascii = address - software_compile;\n",
    "webFlaming(cable, pathIllegalHtml);```\n",
    "\n",
    "## Quo exul exsecrere cuique non alti caerulaque\n",
    "\n",
    "*Optatae o*! Quo et callida et caeleste amorem: nocet recentibus causamque.\n",
    "\n",
    "- Voce adduntque\n",
    "- Divesque quam exstinctum revulsus\n",
    "- Et utrique eunti\n",
    "- Vos tantum quercum fervet et nec\n",
    "- Eris pennis maneas quam\n",
    "\"\"\"\n",
    "\n",
    "ar.Text(md)"
   ]
  },
  {
   "attachments": {},
   "cell_type": "markdown",
   "id": "6",
   "metadata": {},
   "source": [
    "### Text-heavy apps\n",
    "\n",
    "If your app is text-heavy (such as an blogpost) and it contains multiple other blocks, creating a list of strings and blocks in Python can be cumbersome. To solve this, Arakawa provides a `format` option, which allows you to write a single block of Markdown (either in your app, or in a separate file), and intersperse it with other blocks.\n",
    "\n",
    "To do this, use double braces to specify where you want your other blocks to appear throughout your text."
   ]
  },
  {
   "cell_type": "code",
   "execution_count": null,
   "id": "7",
   "metadata": {
    "tags": []
   },
   "outputs": [],
   "source": [
    "import seaborn as sns\n",
    "import altair as alt\n",
    "\n",
    "md = \"\"\"\n",
    "For example, if we want to visualize the number of people in each class within the interval we select a point chart between age and fare, we could do something like this.\n",
    "\n",
    "{{plot}}\n",
    "\n",
    "Altair allows you to create some extremely interactive plots which do on-the-fly calculations — without even requiring a running Python server!\n",
    "\"\"\"\n",
    "\n",
    "titanic = sns.load_dataset(\"titanic\")\n",
    "\n",
    "points = (\n",
    "    alt.Chart(titanic)\n",
    "    .mark_point()\n",
    "    .encode(\n",
    "        x=\"age:Q\",\n",
    "        color=\"class:N\",\n",
    "        y=\"fare:Q\",\n",
    "    )\n",
    "    .interactive()\n",
    "    .properties(width=\"container\")\n",
    ")\n",
    "\n",
    "ar.Text(md).format(plot=points)"
   ]
  },
  {
   "cell_type": "markdown",
   "id": "8",
   "metadata": {},
   "source": [
    "### Text from File"
   ]
  },
  {
   "cell_type": "markdown",
   "id": "9",
   "metadata": {},
   "source": [
    "Alternatively, you can write your article or post in your favourite markdown editor, and pass it in as a file.\n",
    "\n",
    "```python\n",
    "ar.Text(file=\"./my_blogpost.md\").format(plot=points)\n",
    "```"
   ]
  },
  {
   "cell_type": "markdown",
   "id": "10",
   "metadata": {},
   "source": [
    "::: arakawa.Code"
   ]
  },
  {
   "cell_type": "markdown",
   "id": "11",
   "metadata": {},
   "source": [
    "### Simple Code Block"
   ]
  },
  {
   "cell_type": "code",
   "execution_count": null,
   "id": "12",
   "metadata": {
    "tags": []
   },
   "outputs": [],
   "source": [
    "code = \"\"\"\n",
    "function foo(n) {\n",
    "  return foo(n + 1)\n",
    "}\n",
    "\"\"\"\n",
    "\n",
    "ar.Code(code=code, language=\"javascript\")"
   ]
  },
  {
   "cell_type": "markdown",
   "id": "13",
   "metadata": {},
   "source": [
    "::: arakawa.Formula"
   ]
  },
  {
   "cell_type": "markdown",
   "id": "14",
   "metadata": {},
   "source": [
    "### Simple LaTeX Formula"
   ]
  },
  {
   "cell_type": "code",
   "execution_count": null,
   "id": "15",
   "metadata": {
    "tags": []
   },
   "outputs": [],
   "source": [
    "ar.Formula(r\"\\frac{1}{\\sqrt{x^2 + 1}}\")"
   ]
  },
  {
   "cell_type": "markdown",
   "id": "16",
   "metadata": {},
   "source": [
    "::: arakawa.HTML   "
   ]
  },
  {
   "cell_type": "markdown",
   "id": "17",
   "metadata": {},
   "source": [
    "### Simple HTML content"
   ]
  },
  {
   "cell_type": "code",
   "execution_count": null,
   "id": "18",
   "metadata": {
    "tags": []
   },
   "outputs": [],
   "source": [
    "html = \"\"\"\n",
    "<html>\n",
    "    <style type='text/css'>\n",
    "        @keyframes example {\n",
    "            0%   {color: #EEE;}\n",
    "            25%  {color: #EC4899;}\n",
    "            50%  {color: #8B5CF6;}\n",
    "            100% {color: #EF4444;}\n",
    "        }\n",
    "        #container {\n",
    "            background: #1F2937;\n",
    "            padding: 10em;\n",
    "        }\n",
    "        h1 {\n",
    "            color:#eee;\n",
    "            animation-name: example;\n",
    "            animation-duration: 4s;\n",
    "            animation-iteration-count: infinite;\n",
    "        }\n",
    "    </style>\n",
    "    <div id=\"container\">\n",
    "      <h1> Welcome to my App </h1>\n",
    "    </div>\n",
    "</html>\n",
    "\"\"\"\n",
    "\n",
    "ar.HTML(html)"
   ]
  }
 ],
 "metadata": {
  "language_info": {
   "name": "python"
  }
 },
 "nbformat": 4,
 "nbformat_minor": 5
}
