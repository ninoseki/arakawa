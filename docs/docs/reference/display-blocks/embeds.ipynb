{
 "cells": [
  {
   "cell_type": "code",
   "execution_count": null,
   "id": "0",
   "metadata": {
    "tags": [
     "remove_cell"
    ]
   },
   "outputs": [],
   "source": [
    "import arakawa as ar"
   ]
  },
  {
   "cell_type": "markdown",
   "id": "1",
   "metadata": {},
   "source": [
    "::: arakawa.Media\n",
    "\n",
    "### Simple Image Embed\n",
    "\n",
    "In the following example, Arakawa will display images in your app for viewers and allow users to download them."
   ]
  },
  {
   "cell_type": "code",
   "execution_count": null,
   "id": "2",
   "metadata": {
    "tags": []
   },
   "outputs": [],
   "source": [
    "ar.Media(file=\"./image.png\", name=\"Image1\", caption=\"Arakawa in action!\")"
   ]
  },
  {
   "cell_type": "markdown",
   "id": "3",
   "metadata": {
    "tags": []
   },
   "source": [
    "::: arakawa.Embed"
   ]
  },
  {
   "cell_type": "markdown",
   "id": "4",
   "metadata": {},
   "source": [
    "### Simple YouTube Embed"
   ]
  },
  {
   "cell_type": "code",
   "execution_count": null,
   "id": "5",
   "metadata": {
    "tags": []
   },
   "outputs": [],
   "source": [
    "ar.Embed(url='https://www.youtube.com/watch?v=_KS_yZBI71s&t')"
   ]
  },
  {
   "cell_type": "markdown",
   "id": "6",
   "metadata": {},
   "source": [
    "You don't need to use this block for simple embeds, e.g. GIFs. For those, just use Markdown syntax i.e. `![](https://my-example-gif.gif)`"
   ]
  },
  {
   "cell_type": "markdown",
   "id": "7",
   "metadata": {},
   "source": [
    "::: arakawa.Attachment"
   ]
  },
  {
   "cell_type": "markdown",
   "id": "8",
   "metadata": {},
   "source": [
    "### Simple Attachment"
   ]
  },
  {
   "cell_type": "code",
   "execution_count": null,
   "id": "9",
   "metadata": {
    "tags": []
   },
   "outputs": [],
   "source": [
    "data_path = \"./netflix_stock_data.csv\"\n",
    "\n",
    "ar.Attachment(file=data_path)"
   ]
  },
  {
   "cell_type": "markdown",
   "id": "10",
   "metadata": {},
   "source": [
    "### Python Object Attachment"
   ]
  },
  {
   "cell_type": "code",
   "execution_count": null,
   "id": "11",
   "metadata": {
    "tags": []
   },
   "outputs": [],
   "source": [
    "vehicle_dict = {\"brand\": \"Ford\", \"model\": \"Mustang\", \"year\": 1964}\n",
    "\n",
    "ar.Attachment(vehicle_dict, name=\"vehicle_dict\")"
   ]
  },
  {
   "cell_type": "markdown",
   "id": "12",
   "metadata": {},
   "source": [
    "### Multiple Attachments"
   ]
  },
  {
   "cell_type": "code",
   "execution_count": null,
   "id": "13",
   "metadata": {
    "tags": []
   },
   "outputs": [],
   "source": [
    "data_path = \"./netflix_stock_data.csv\"\n",
    "\n",
    "vehicle_dict = {\"brand\": \"Ford\", \"model\": \"Mustang\", \"year\": 1964}\n",
    "\n",
    "ar.Group(\n",
    "    ar.Attachment(file=data_path), ar.Attachment(vehicle_dict, name=\"vehicle_dict\")\n",
    ")"
   ]
  }
 ],
 "metadata": {
  "language_info": {
   "name": "python"
  }
 },
 "nbformat": 4,
 "nbformat_minor": 5
}
