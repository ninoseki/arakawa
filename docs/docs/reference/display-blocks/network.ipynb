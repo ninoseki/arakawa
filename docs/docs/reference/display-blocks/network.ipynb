{
 "cells": [
  {
   "cell_type": "code",
   "execution_count": null,
   "id": "0",
   "metadata": {
    "tags": [
     "remove_cell"
    ]
   },
   "outputs": [],
   "source": [
    "import arakawa as ar\n",
    "import warnings\n",
    "warnings.filterwarnings(\"ignore\")"
   ]
  },
  {
   "cell_type": "markdown",
   "id": "1",
   "metadata": {},
   "source": [
    "# Network\n",
    "\n",
    "Arakawa supports [Sigma.js](https://sigma.js) & [Graphology](https://graphology.github.io/) based network visualization.\n",
    "\n",
    "!!! note\n",
    "\n",
    "    - A graph is layout by [ForceAtlas2](https://www.npmjs.com/package/graphology-layout-forceatlas2) and you can configure it by `layout_settings` option. `layout_settings` option is same as [this settings](https://www.npmjs.com/package/graphology-layout-forceatlas2#settings). However, note that the name of each setting is lowercased.\n",
    "    - Each node of a graph should have `label` attribute.\n",
    "\n",
    "::: arakawa.Sigma"
   ]
  },
  {
   "cell_type": "code",
   "execution_count": null,
   "id": "2",
   "metadata": {},
   "outputs": [],
   "source": [
    "ar.Sigma(\n",
    "    data={\n",
    "        \"options\": {\"type\": \"mixed\", \"multi\": False, \"allowSelfLoops\": True},\n",
    "        \"attributes\": {},\n",
    "        \"nodes\": [\n",
    "            {\n",
    "                \"key\": \"A\",\n",
    "                \"attributes\": {\n",
    "                    \"label\": \"A\",\n",
    "                    \"size\": 20,\n",
    "                },\n",
    "            },\n",
    "            {\"key\": \"B\", \"attributes\": {\"label\": \"B\", \"size\": 20}},\n",
    "        ],\n",
    "        \"edges\": [{\"key\": \"geid_179_0\", \"source\": \"A\", \"target\": \"B\"}],\n",
    "    }\n",
    ")"
   ]
  },
  {
   "cell_type": "markdown",
   "id": "3",
   "metadata": {},
   "source": [
    "::: arakawa.NetworkX"
   ]
  },
  {
   "cell_type": "code",
   "execution_count": null,
   "id": "4",
   "metadata": {},
   "outputs": [],
   "source": [
    "import networkx as nx\n",
    "\n",
    "G = nx.karate_club_graph()\n",
    "for ix, node in enumerate(list(G.nodes())):\n",
    "    G.nodes[node][\"label\"] = str(ix)\n",
    "    G.nodes[node][\"size\"] = G.degree(node)\n",
    "\n",
    "ar.NetworkX(\n",
    "    G,\n",
    "    layout_settings={\n",
    "        \"outbound_attraction_distribution\": True,\n",
    "        \"barnes_hut_optimize\": True,\n",
    "        \"adjust_sizes\": True,\n",
    "        \"lin_log_mode\": True,\n",
    "    },\n",
    ")"
   ]
  }
 ],
 "metadata": {
  "language_info": {
   "name": "python"
  }
 },
 "nbformat": 4,
 "nbformat_minor": 5
}
