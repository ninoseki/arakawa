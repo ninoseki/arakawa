{
 "cells": [
  {
   "cell_type": "code",
   "execution_count": null,
   "metadata": {},
   "outputs": [],
   "source": [
    "import arakawa as ar"
   ]
  },
  {
   "cell_type": "markdown",
   "metadata": {},
   "source": [
    "Control blocks are powered by [Formkit](https://formkit.com/) and most of blocks can have a string style `validation`.\n",
    "\n",
    "- https://formkit.com/essentials/validation"
   ]
  },
  {
   "cell_type": "code",
   "execution_count": null,
   "metadata": {},
   "outputs": [],
   "source": [
    "ar.TextBox(\"text\", validation=\"number|between:20,50\", help_=\"Enter a number between 20 and 50\")"
   ]
  },
  {
   "cell_type": "markdown",
   "metadata": {},
   "source": [
    "`required` is using the Formkit validation under the hood and `validation` will be combined with it."
   ]
  },
  {
   "cell_type": "code",
   "execution_count": null,
   "metadata": {},
   "outputs": [],
   "source": [
    "ar.TextBox(\"text\", required=True, validation=\"number|between:20,50\", help_=\"Enter a number between 20 and 50\")"
   ]
  },
  {
   "cell_type": "markdown",
   "metadata": {},
   "source": [
    "!!! info\n",
    "    The above input has `required|number|between:20,50` validation."
   ]
  }
 ],
 "metadata": {
  "language_info": {
   "name": "python"
  }
 },
 "nbformat": 4,
 "nbformat_minor": 2
}
