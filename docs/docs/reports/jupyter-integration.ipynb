{
 "cells": [
  {
   "cell_type": "code",
   "execution_count": null,
   "id": "0",
   "metadata": {
    "tags": [
     "remove_cell"
    ]
   },
   "outputs": [],
   "source": [
    "import warnings\n",
    "warnings.filterwarnings(\"ignore\")"
   ]
  },
  {
   "attachments": {},
   "cell_type": "markdown",
   "id": "1",
   "metadata": {},
   "source": [
    "Arakawa has first-class Jupyter Notebook support. This includes Jupyter Lab, Jupyter Notebook, Google Colab, and Visual Studio Code with the Jupyter plugin.\n",
    "\n",
    "Let's see how Arakawa and Jupyter Notebook can build data-powered apps, all without disrupting your workflow."
   ]
  },
  {
   "cell_type": "code",
   "execution_count": null,
   "id": "2",
   "metadata": {},
   "outputs": [],
   "source": [
    "import arakawa as ar\n",
    "import altair as alt\n",
    "from vega_datasets import data"
   ]
  },
  {
   "attachments": {},
   "cell_type": "markdown",
   "id": "3",
   "metadata": {},
   "source": [
    "## Enhancing Notebooks\n",
    "\n",
    "Arakawa Blocks are useful and they can be embedded straight into your notebook.\n",
    "\n",
    "### Interactive DataFrames\n",
    "\n",
    "The notebook journey often begins by loading in a dataset and displaying it for a quick sanity check. Something like the following:"
   ]
  },
  {
   "cell_type": "code",
   "execution_count": null,
   "id": "4",
   "metadata": {
    "tags": [
     "remove_input"
    ]
   },
   "outputs": [],
   "source": [
    "ar.Media(\n",
    "    file=\"../img/jupyter/dataframe-output.jpg\",\n",
    "    name=\"dataframe-output\",\n",
    "    caption=\"Default DataFrame output behavior\",\n",
    ")"
   ]
  },
  {
   "cell_type": "markdown",
   "id": "5",
   "metadata": {},
   "source": [
    "That's not bad, but it could be much better. Let's wrap our DataFrame in Arakawa's `ar.DataTable` block and see what happens."
   ]
  },
  {
   "cell_type": "code",
   "execution_count": null,
   "id": "6",
   "metadata": {},
   "outputs": [],
   "source": [
    "df = data.iris()\n",
    "ar.DataTable(df)"
   ]
  },
  {
   "attachments": {},
   "cell_type": "markdown",
   "id": "7",
   "metadata": {},
   "source": [
    "Our DataFrame is now interactive. We can explore it with filters, sorting, export options, and even run SQL queries against the data.\n",
    "\n",
    "### Adding Structure With Tabs\n",
    "\n",
    "Notebooks don't have to be a flood of in/out cells that are viewed from top to bottom. We can add depth to our notebooks with tabs.\n",
    "\n",
    "Let's create a scatter plot with our dataset from earlier..."
   ]
  },
  {
   "cell_type": "code",
   "execution_count": null,
   "id": "8",
   "metadata": {},
   "outputs": [],
   "source": [
    "fig = (\n",
    "    alt.Chart(df)\n",
    "    .mark_point()\n",
    "    .encode(x=\"petalLength:Q\", y=\"petalWidth:Q\", color=\"species:N\")\n",
    ")"
   ]
  },
  {
   "cell_type": "markdown",
   "id": "9",
   "metadata": {},
   "source": [
    "... and bring them both together with a `ar.Select` block."
   ]
  },
  {
   "cell_type": "code",
   "execution_count": null,
   "id": "10",
   "metadata": {
    "tags": []
   },
   "outputs": [],
   "source": [
    "ar.Select(\n",
    "    blocks =[\n",
    "        ar.Plot(fig, label=\"Plot\"),\n",
    "        ar.DataTable(df, label=\"Data\")\n",
    "    ]\n",
    ")"
   ]
  },
  {
   "attachments": {},
   "cell_type": "markdown",
   "id": "11",
   "metadata": {},
   "source": [
    "Now we have an interactive plot, and we can switch to that same interactive data explorer from earlier by clicking the \"Data\" tab.\n",
    "\n",
    "### Add Even More Blocks\n",
    "\n",
    "Enhance your data reports with Arakawa's [Blocks](https://docs.datapane.com/basic/blocks/), which includes the handy `ar.BigNumber` block."
   ]
  },
  {
   "cell_type": "code",
   "execution_count": null,
   "id": "12",
   "metadata": {},
   "outputs": [],
   "source": [
    "ar.Group(\n",
    "    ar.BigNumber(\n",
    "        heading=\"Percentage points\",\n",
    "        value=\"84%\",\n",
    "        change=\"2%\",\n",
    "        is_upward_change=True,\n",
    "    ),\n",
    "    ar.BigNumber(\n",
    "        heading=\"Points\",\n",
    "        value=\"1234\",\n",
    "        change=\"200\",\n",
    "        is_upward_change=False,\n",
    "    ),\n",
    "    columns=2,\n",
    ")"
   ]
  },
  {
   "attachments": {},
   "cell_type": "markdown",
   "id": "13",
   "metadata": {},
   "source": [
    "## Convert Notebooks to Reports\n",
    "\n",
    "Data analysis often begins in a Jupyter Notebook, and once complete, we need to share our insights.\n",
    "\n",
    "Some recipients may be comfortable with an `.ipynb` file, and in those instances, you could just send your notebook over and still benefit from Arakawa's enhancements.\n",
    "\n",
    "But in most cases, you will want to turn your notebook into something presentable and accessible. With Arakawa, all it takes is a single line of code.\n",
    "\n",
    "```python\n",
    "view = ar.View.from_notebook()\n",
    "```\n",
    "\n",
    "### Opt-in or Opt-out\n",
    "\n",
    "By default, notebook-to-report conversion will include all markdown and supported cell output. This is the easiest and quickest way to turn your notebook into an report. \n",
    "\n",
    "In this mode, you can explicitly exclude cells with the cell tag `ar-exclude`.\n",
    "\n",
    "![Exclude cells](../img/jupyter/exclude.png)\n",
    "\n",
    "In some cases, it is preferable to only include cells of interest. This can be achieved by setting `opt_out` to `False`, e.g.:\n",
    "\n",
    "```python\n",
    "blocks = ar.Blocks.from_notebook(opt_out=False)\n",
    "```\n",
    "\n",
    "In this mode, you can explicitly include supported cells with the cell tag `ar-include`.\n",
    "\n",
    "![Include cells](../img/jupyter/include.png)\n",
    "\n",
    "### Display Input Code\n",
    "\n",
    "You may want to display the input code for a particular cell in your report. Arakawa has you covered. You can include code cells with the cell tag `ar-show-code`.\n",
    "\n",
    "![Show code](../img/jupyter/show-code.png)"
   ]
  }
 ],
 "metadata": {
  "language_info": {
   "name": "python"
  }
 },
 "nbformat": 4,
 "nbformat_minor": 5
}
