{
 "cells": [
  {
   "cell_type": "code",
   "execution_count": null,
   "metadata": {
    "tags": [
     "remove_cell"
    ]
   },
   "outputs": [],
   "source": [
    "import arakawa as ar"
   ]
  },
  {
   "attachments": {},
   "cell_type": "markdown",
   "metadata": {},
   "source": [
    "Layout blocks take other blocks as parameters and lay them out. Interactive layout blocks (such as tabs and selects) don't require a backend server and can be used in HTML reports."
   ]
  },
  {
   "cell_type": "markdown",
   "metadata": {},
   "source": [
    "## Group"
   ]
  },
  {
   "cell_type": "code",
   "execution_count": null,
   "metadata": {},
   "outputs": [],
   "source": [
    "import altair as alt\n",
    "from vega_datasets import data\n",
    "\n",
    "df = data.iris()\n",
    "\n",
    "plot_base = alt.Chart(df).mark_point().interactive()\n",
    "\n",
    "ar.Group(\n",
    "    \"Iris analysis\",\n",
    "    ar.Select(\n",
    "       ar.DataTable(df, label='Data'),\n",
    "       ar.Group(\n",
    "           ar.Plot(plot_base.encode(x='sepalLength', y='sepalWidth', color='species')),\n",
    "           ar.Plot(plot_base.encode(x='petalLength', y='petalWidth', color='species')),\n",
    "           columns=2,\n",
    "           label='Plots'\n",
    "       )\n",
    "    )\n",
    ")"
   ]
  },
  {
   "attachments": {},
   "cell_type": "markdown",
   "metadata": {},
   "source": [
    "This includes columns:"
   ]
  },
  {
   "cell_type": "code",
   "execution_count": null,
   "metadata": {
    "tags": []
   },
   "outputs": [],
   "source": [
    "ar.Group(\n",
    "    ar.BigNumber(heading=\"Left\", value=\"1234\"),\n",
    "    ar.BigNumber(heading=\"Middle\", value=\"4321\"),\n",
    "    ar.BigNumber(heading=\"Right\", value=\"2314\"),\n",
    "    columns=3,\n",
    ")"
   ]
  },
  {
   "attachments": {},
   "cell_type": "markdown",
   "metadata": {},
   "source": [
    "## Select"
   ]
  },
  {
   "cell_type": "code",
   "execution_count": null,
   "metadata": {
    "tags": []
   },
   "outputs": [],
   "source": [
    "ar.Select(\n",
    "    blocks=[\n",
    "        ar.Text(\"Hello World 1\", label=\"Page 1\"),\n",
    "        ar.Text(\"Hello World 2\", label=\"Page 2\"),\n",
    "        ar.Text(\"Hello World 3\", label=\"Page 3\"),\n",
    "    ]\n",
    ")"
   ]
  },
  {
   "attachments": {},
   "cell_type": "markdown",
   "metadata": {},
   "source": [
    "## Nesting\n",
    "\n",
    "Layout blocks can be arbitrarily nested, allowing you to create complex user interfaces."
   ]
  },
  {
   "cell_type": "code",
   "execution_count": null,
   "metadata": {},
   "outputs": [],
   "source": [
    "ar.Group(\n",
    "    ar.Text(\"This is the left side of a two-column layout\"),\n",
    "    ar.Group(\n",
    "        ar.Text(\"This is the right side of a two-column layout\"),\n",
    "        ar.Text(\"Below we have three tabs with different content\"),\n",
    "        ar.Select(\n",
    "            blocks=[\n",
    "                ar.Text(\"Hello World 1\", label=\"Page 1\"),\n",
    "                ar.Text(\"Hello World 2\", label=\"Page 2\"),\n",
    "                ar.Text(\"Hello World 3\", label=\"Page 3\"),\n",
    "            ]\n",
    "        ),\n",
    "    ),\n",
    "    columns=2,\n",
    ")"
   ]
  },
  {
   "cell_type": "markdown",
   "metadata": {},
   "source": [
    "## Compute\n",
    "\n",
    "Compute block is for composing an HTML form with control blocks."
   ]
  },
  {
   "cell_type": "code",
   "execution_count": null,
   "metadata": {},
   "outputs": [],
   "source": [
    "ar.Compute(\n",
    "    ar.TextBox(\"text\"),\n",
    "    ar.NumberBox(\"number\")\n",
    ")"
   ]
  },
  {
   "attachments": {},
   "cell_type": "markdown",
   "metadata": {},
   "source": [
    "## Available Blocks\n",
    "\n",
    "Check out more layout block examples in the API Reference:\n",
    "\n",
    "  - [`ar.Group`](../../reference/layout-blocks/group/)\n",
    "  - [`ar.Page`](../../reference/layout-blocks/page/)\n",
    "  - [`ar.Select`](../../reference/layout-blocks/select/)\n",
    "  - [`ar.Toggle`](../../reference/layout-blocks/toggle/)\n",
    "  - [`ar.Compute`](../../reference/layout-blocks/compute/)"
   ]
  }
 ],
 "metadata": {
  "language_info": {
   "name": "python"
  }
 },
 "nbformat": 4,
 "nbformat_minor": 4
}
