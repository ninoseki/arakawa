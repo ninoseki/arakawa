{
 "cells": [
  {
   "cell_type": "code",
   "execution_count": null,
   "metadata": {
    "tags": [
     "remove_cell"
    ]
   },
   "outputs": [],
   "source": [
    "import arakawa as ar"
   ]
  },
  {
   "attachments": {},
   "cell_type": "markdown",
   "metadata": {},
   "source": [
    "Control Blocks are for composing an HTML form with [Compute](../../reference/layout/compute/) layout block.\n",
    "\n",
    "Arakawa supports various control blocks."
   ]
  },
  {
   "cell_type": "code",
   "execution_count": null,
   "metadata": {
    "tags": []
   },
   "outputs": [],
   "source": [
    "ar.TextBox(\"text\")"
   ]
  },
  {
   "cell_type": "code",
   "execution_count": null,
   "metadata": {
    "tags": []
   },
   "outputs": [],
   "source": [
    "ar.NumberBox(\"number\")"
   ]
  },
  {
   "cell_type": "code",
   "execution_count": null,
   "metadata": {},
   "outputs": [],
   "source": [
    "ar.RangeField(name=\"range\", min_=0, max_=100, step=10)"
   ]
  },
  {
   "cell_type": "code",
   "execution_count": null,
   "metadata": {
    "tags": []
   },
   "outputs": [],
   "source": [
    "ar.SwitchField(\"switch\")"
   ]
  },
  {
   "cell_type": "code",
   "execution_count": null,
   "metadata": {},
   "outputs": [],
   "source": [
    "ar.FileField(\"file\")"
   ]
  },
  {
   "cell_type": "code",
   "execution_count": null,
   "metadata": {},
   "outputs": [],
   "source": [
    "ar.DateTimeField(\"date-time\")"
   ]
  },
  {
   "attachments": {},
   "cell_type": "markdown",
   "metadata": {},
   "source": [
    "## API References\n",
    "\n",
    "Check out the API Reference to know details:\n",
    "\n",
    "  - [`Choices & Tags`](../../reference/control-blocks/choices/)\n",
    "  - [`Datetimes`](../../reference/control-blocks/datetimes/)\n",
    "  - [`File`](../../reference/control-blocks/file/)\n",
    "  - [`Numbers`](../../reference/control-blocks/numbers)\n",
    "  - [`Switch`](../../reference/control-blocks/switch/)\n",
    "  - [`Texts`](../../reference/control-blocks/texts/)\n",
    "  - [`Validation`](../../reference/control-blocks/validation/)"
   ]
  }
 ],
 "metadata": {
  "language_info": {
   "name": "python"
  }
 },
 "nbformat": 4,
 "nbformat_minor": 4
}
