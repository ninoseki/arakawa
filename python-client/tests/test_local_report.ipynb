{
 "cells": [
  {
   "cell_type": "code",
   "execution_count": null,
   "metadata": {},
   "outputs": [],
   "source": [
    "import sys\n",
    "\n",
    "sys.path.insert(0, \"..\")"
   ]
  },
  {
   "cell_type": "code",
   "execution_count": null,
   "metadata": {},
   "outputs": [],
   "source": [
    "\n",
    "import altair as alt\n",
    "import pandas as pd\n",
    "\n",
    "import arakawa as ar"
   ]
  },
  {
   "cell_type": "code",
   "execution_count": null,
   "metadata": {},
   "outputs": [],
   "source": [
    "def gen_df(dim: int = 4) -> pd.DataFrame:\n",
    "    axis = list(range(0, dim))\n",
    "    data = {\"x\": axis, \"y\": axis}\n",
    "    return pd.DataFrame.from_dict(data)"
   ]
  },
  {
   "cell_type": "code",
   "execution_count": null,
   "metadata": {},
   "outputs": [],
   "source": [
    "lis = [1, 2, 3]\n",
    "df = gen_df(10000)\n",
    "md_block = ar.Markdown(\"Test markdown block\")\n",
    "# list_asset = api.Asset.upload_obj(data=lis, title=\"List Asset\")\n",
    "plot_asset = ar.Plot(\n",
    "    data=alt.Chart(gen_df()).mark_line().encode(x=\"x\", y=\"y\"), caption=\"Plot Asset\"\n",
    ")\n",
    "df_asset = ar.DataTable(df=df, caption=\"Test Dataframe\")\n",
    "report = ar.Report(df_asset, md_block, plot_asset)"
   ]
  },
  {
   "cell_type": "code",
   "execution_count": null,
   "metadata": {},
   "outputs": [],
   "source": [
    "report.preview()"
   ]
  },
  {
   "cell_type": "code",
   "execution_count": null,
   "metadata": {},
   "outputs": [],
   "source": [
    "report.save(path=\"local report.html\", open=True)"
   ]
  },
  {
   "cell_type": "code",
   "execution_count": null,
   "metadata": {},
   "outputs": [],
   "source": [
    "report.tmp_report"
   ]
  }
 ],
 "metadata": {
  "kernelspec": {
   "display_name": "Python 3",
   "language": "python",
   "name": "python3"
  },
  "language_info": {
   "codemirror_mode": {
    "name": "ipython",
    "version": 3
   },
   "file_extension": ".py",
   "mimetype": "text/x-python",
   "name": "python",
   "nbconvert_exporter": "python",
   "pygments_lexer": "ipython3",
   "version": "3.8.6"
  }
 },
 "nbformat": 4,
 "nbformat_minor": 4
}
